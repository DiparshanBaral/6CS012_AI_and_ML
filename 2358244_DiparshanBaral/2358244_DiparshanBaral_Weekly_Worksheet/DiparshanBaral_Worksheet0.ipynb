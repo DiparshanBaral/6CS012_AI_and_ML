{
 "cells": [
  {
   "cell_type": "markdown",
   "id": "fb0f2e6c-0b6b-417b-a7d4-1f7fe878c624",
   "metadata": {},
   "source": [
    "# 4 TO - DO - Task\n"
   ]
  },
  {
   "cell_type": "markdown",
   "id": "5b2aaef4-f45f-4024-abe8-4d303b8502d2",
   "metadata": {},
   "source": [
    "**4.1 Exercise on Functions:**\n",
    "\n",
    "**Task-1**"
   ]
  },
  {
   "cell_type": "markdown",
   "id": "a5de40f6-38f9-4109-b01c-98e242d92412",
   "metadata": {},
   "source": [
    "Create a Python program that converts between different units of measurement.\n",
    "• The program should:\n",
    "1. Prompt the user to choose the type of conversion (e.g., length, weight, volume).\n",
    "2. Ask the user to input the value to be converted.\n",
    "3. Perform the conversion and display the result.\n",
    "4. Handle potential errors, such as invalid input or unsupported conversion types"
   ]
  },
  {
   "cell_type": "code",
   "execution_count": 5,
   "id": "0b3da424-5803-4755-b6e3-1baa809324e5",
   "metadata": {},
   "outputs": [
    {
     "name": "stdout",
     "output_type": "stream",
     "text": [
      "Conversion Types: length, weight, volume\n"
     ]
    },
    {
     "name": "stdin",
     "output_type": "stream",
     "text": [
      "Choose conversion type:  length\n",
      "Enter value to convert:  2000\n",
      "Enter from unit:  m\n",
      "Enter to unit:  ft\n"
     ]
    },
    {
     "name": "stdout",
     "output_type": "stream",
     "text": [
      "2000.0 m is equal to 6561.6800 ft\n"
     ]
    }
   ],
   "source": [
    "def convert_units(value, from_unit, to_unit):\n",
    "    \"\"\"\n",
    "    Converts between different units of measurement.\n",
    "    \n",
    "    Parameters:\n",
    "        value (float): The numeric value to be converted.\n",
    "        from_unit (str): The unit of the input value.\n",
    "        to_unit (str): The desired unit for conversion.\n",
    "    \n",
    "    Returns:\n",
    "        float: The converted value if the conversion is valid, otherwise None.\n",
    "    \"\"\"\n",
    "    conversions = {\n",
    "        (\"m\", \"ft\"): 3.28084,\n",
    "        (\"ft\", \"m\"): 1 / 3.28084,\n",
    "        (\"kg\", \"lbs\"): 2.20462,\n",
    "        (\"lbs\", \"kg\"): 1 / 2.20462,\n",
    "        (\"l\", \"gal\"): 0.264172,\n",
    "        (\"gal\", \"l\"): 1 / 0.264172\n",
    "    }\n",
    "\n",
    "    if (from_unit, to_unit) in conversions:\n",
    "        return value * conversions[(from_unit, to_unit)]\n",
    "    return None\n",
    "\n",
    "def main():\n",
    "    try:\n",
    "        print(\"Conversion Types: length, weight, volume\")\n",
    "        conversion_type = input(\"Choose conversion type: \").strip().lower()\n",
    "\n",
    "        valid_types = {\n",
    "            \"length\": [(\"m\", \"ft\"), (\"ft\", \"m\")],\n",
    "            \"weight\": [(\"kg\", \"lbs\"), (\"lbs\", \"kg\")],\n",
    "            \"volume\": [(\"l\", \"gal\"), (\"gal\", \"l\")]\n",
    "        }\n",
    "\n",
    "        if conversion_type not in valid_types:\n",
    "            raise ValueError(\"Invalid conversion type!\")\n",
    "\n",
    "        value = float(input(\"Enter value to convert: \"))\n",
    "        from_unit = input(\"Enter from unit: \").strip().lower()\n",
    "        to_unit = input(\"Enter to unit: \").strip().lower()\n",
    "\n",
    "        if (from_unit, to_unit) not in valid_types[conversion_type]:\n",
    "            raise ValueError(\"Invalid unit pair for conversion!\")\n",
    "\n",
    "        result = convert_units(value, from_unit, to_unit)\n",
    "        print(f\"{value} {from_unit} is equal to {result:.4f} {to_unit}\")\n",
    "\n",
    "    except ValueError as e:\n",
    "        print(f\"Error: {e}\")\n",
    "\n",
    "if __name__ == \"__main__\":\n",
    "    main()\n"
   ]
  },
  {
   "cell_type": "markdown",
   "id": "c9d1f5a1-56bf-42d3-9b75-a79c2c09b273",
   "metadata": {},
   "source": [
    "Create a Python program that performs various mathematical operations on a list of numbers.\n",
    "• The Program should:\n",
    "1. Prompt the user to choose an operation (e.g., find the sum, average, maximum, or minimum\n",
    "of the numbers).\n",
    "2. Ask the user to input a list of numbers (separated by spaces).\n",
    "3. Perform the selected operation and display the result.\n",
    "4. Handle potential errors, such as invalid input or empty lists.\n",
    "• Requirements:\n",
    "1. Functions: Define at least one function for each operation (sum, average, maximum, minimum).\n",
    "2. Error Handling: Use try-except blocks to handle invalid input (e.g., non-numeric values or\n",
    "empty lists).\n",
    "3. User Input: Prompt the user to select the operation and input the list of numbers.\n",
    "4. Docstrings: Include a docstring in each function to describe its purpose, parameters, and\n",
    "return value."
   ]
  },
  {
   "cell_type": "code",
   "execution_count": 6,
   "id": "6f51c161-4e39-4770-83ba-5d82b2c73892",
   "metadata": {},
   "outputs": [
    {
     "name": "stdout",
     "output_type": "stream",
     "text": [
      "Choose an operation:\n",
      "1. Sum\n",
      "2. Average\n",
      "3. Maximum\n",
      "4. Minimum\n"
     ]
    },
    {
     "name": "stdin",
     "output_type": "stream",
     "text": [
      "Enter the number corresponding to your choice:  1\n",
      "Enter a list of numbers separated by spaces:  12 13\n"
     ]
    },
    {
     "name": "stdout",
     "output_type": "stream",
     "text": [
      "The sum of the numbers is: 25.0\n"
     ]
    },
    {
     "name": "stdin",
     "output_type": "stream",
     "text": [
      "Would you like to perform another operation? (yes/no):  no\n"
     ]
    }
   ],
   "source": [
    "def find_sum(numbers):\n",
    "    \"\"\"\n",
    "    Function to calculate the sum of a list of numbers.\n",
    "    \n",
    "    Parameters:\n",
    "    numbers (list): A list of numeric values.\n",
    "\n",
    "    Returns:\n",
    "    float: The sum of the numbers in the list.\n",
    "    \"\"\"\n",
    "    return sum(numbers)\n",
    "\n",
    "def find_average(numbers):\n",
    "    \"\"\"\n",
    "    Function to calculate the average of a list of numbers.\n",
    "    \n",
    "    Parameters:\n",
    "    numbers (list): A list of numeric values.\n",
    "\n",
    "    Returns:\n",
    "    float: The average of the numbers in the list.\n",
    "    \"\"\"\n",
    "    return sum(numbers) / len(numbers)\n",
    "\n",
    "def find_maximum(numbers):\n",
    "    \"\"\"\n",
    "    Function to find the maximum number in a list.\n",
    "    \n",
    "    Parameters:\n",
    "    numbers (list): A list of numeric values.\n",
    "\n",
    "    Returns:\n",
    "    float: The maximum number in the list.\n",
    "    \"\"\"\n",
    "    return max(numbers)\n",
    "\n",
    "def find_minimum(numbers):\n",
    "    \"\"\"\n",
    "    Function to find the minimum number in a list.\n",
    "    \n",
    "    Parameters:\n",
    "    numbers (list): A list of numeric values.\n",
    "\n",
    "    Returns:\n",
    "    float: The minimum number in the list.\n",
    "    \"\"\"\n",
    "    return min(numbers)\n",
    "\n",
    "def get_numbers_from_user():\n",
    "    \"\"\"\n",
    "    Function to get a list of numbers from the user input.\n",
    "    \n",
    "    Returns:\n",
    "    list: A list of numbers input by the user.\n",
    "    \"\"\"\n",
    "    while True:\n",
    "        try:\n",
    "            user_input = input(\"Enter a list of numbers separated by spaces: \")\n",
    "            numbers = [float(num) for num in user_input.split()]\n",
    "            if not numbers:\n",
    "                raise ValueError(\"The list cannot be empty.\")\n",
    "            return numbers\n",
    "        except ValueError as e:\n",
    "            print(f\"Invalid input: {e}. Please enter valid numbers.\")\n",
    "\n",
    "def main():\n",
    "    \"\"\"\n",
    "    Main function to interact with the user, prompt for operations, and display results.\n",
    "    \"\"\"\n",
    "    operations = {\n",
    "        \"1\": \"Sum\",\n",
    "        \"2\": \"Average\",\n",
    "        \"3\": \"Maximum\",\n",
    "        \"4\": \"Minimum\"\n",
    "    }\n",
    "    \n",
    "    print(\"Choose an operation:\")\n",
    "    for key, value in operations.items():\n",
    "        print(f\"{key}. {value}\")\n",
    "\n",
    "    while True:\n",
    "        operation_choice = input(\"Enter the number corresponding to your choice: \")\n",
    "        \n",
    "        if operation_choice not in operations:\n",
    "            print(\"Invalid choice. Please select a valid operation.\")\n",
    "            continue\n",
    "\n",
    "        numbers = get_numbers_from_user()\n",
    "\n",
    "        if operation_choice == \"1\":\n",
    "            result = find_sum(numbers)\n",
    "            print(f\"The sum of the numbers is: {result}\")\n",
    "        elif operation_choice == \"2\":\n",
    "            result = find_average(numbers)\n",
    "            print(f\"The average of the numbers is: {result}\")\n",
    "        elif operation_choice == \"3\":\n",
    "            result = find_maximum(numbers)\n",
    "            print(f\"The maximum number is: {result}\")\n",
    "        elif operation_choice == \"4\":\n",
    "            result = find_minimum(numbers)\n",
    "            print(f\"The minimum number is: {result}\")\n",
    "        \n",
    "        another_operation = input(\"Would you like to perform another operation? (yes/no): \").strip().lower()\n",
    "        if another_operation != \"yes\":\n",
    "            break\n",
    "\n",
    "if __name__ == \"__main__\":\n",
    "    main()\n"
   ]
  },
  {
   "cell_type": "markdown",
   "id": "0c7f2ca1-e698-42a7-8b28-0dbbc8e7613a",
   "metadata": {},
   "source": [
    "**4.2 Exercise on List Manipulation:**"
   ]
  },
  {
   "cell_type": "markdown",
   "id": "2f14eef7-555d-4332-a0b0-aab1883d6451",
   "metadata": {},
   "source": [
    "1. Extract Every Other Element:\n",
    "Write a Python function that extracts every other element from a list, starting from the first element.\n",
    "• Requirements:\n",
    "– Define a function extract every other(lst) that takes a list lst as input and returns a\n",
    "new list containing every other element from the original list.\n",
    "– Example: For the input [1, 2, 3, 4, 5, 6], the output should be [1, 3, 5]."
   ]
  },
  {
   "cell_type": "code",
   "execution_count": 8,
   "id": "675e35aa-2480-41dc-b064-6a3ee7db061f",
   "metadata": {},
   "outputs": [
    {
     "name": "stdout",
     "output_type": "stream",
     "text": [
      "[1, 3, 5]\n"
     ]
    }
   ],
   "source": [
    "def extract_every_other(lst):\n",
    "    \"\"\"\n",
    "    Function to extract every other element from a list, starting from the first element.\n",
    "    \n",
    "    Parameters:\n",
    "    lst (list): The input list from which to extract elements.\n",
    "\n",
    "    Returns:\n",
    "    list: A new list containing every other element from the input list.\n",
    "    \"\"\"\n",
    "    return lst[::2]\n",
    "\n",
    "# Example usage:\n",
    "input_list = [1, 2, 3, 4, 5, 6]\n",
    "output_list = extract_every_other(input_list)\n",
    "print(output_list)\n"
   ]
  },
  {
   "cell_type": "markdown",
   "id": "594f5b10-3cce-4d04-9bf7-6741f72243f0",
   "metadata": {},
   "source": [
    "2. Slice a Sublist:\n",
    "Write a Python function that returns a sublist from a given list, starting from a specified index and\n",
    "ending at another specified index.\n",
    "• Requirements:\n",
    "– Define a function get sublist(lst, start, end) that takes a list lst, a starting index\n",
    "start, and an ending index end as input and returns the sublist from start to end (inclusive).\n",
    "– Example: For the input [1, 2, 3, 4, 5, 6] with start=2 and end=4, the output should\n",
    "be [3, 4, 5]."
   ]
  },
  {
   "cell_type": "code",
   "execution_count": 9,
   "id": "d7511e10-3c78-42af-8121-9f81d71ad2da",
   "metadata": {},
   "outputs": [
    {
     "name": "stdout",
     "output_type": "stream",
     "text": [
      "[3, 4, 5]\n"
     ]
    }
   ],
   "source": [
    "def get_sublist(lst, start, end):\n",
    "    \"\"\"\n",
    "    Function to return a sublist from the given list, starting from the specified \n",
    "    start index and ending at the specified end index (inclusive).\n",
    "    \n",
    "    Parameters:\n",
    "    lst (list): The input list.\n",
    "    start (int): The starting index of the sublist.\n",
    "    end (int): The ending index of the sublist.\n",
    "    \n",
    "    Returns:\n",
    "    list: A sublist from the start to the end index (inclusive).\n",
    "    \"\"\"\n",
    "    return lst[start:end+1]\n",
    "\n",
    "# Example usage:\n",
    "print(get_sublist([1, 2, 3, 4, 5, 6], 2, 4))\n"
   ]
  },
  {
   "cell_type": "markdown",
   "id": "50a367c2-198d-4fec-a854-9516650c0668",
   "metadata": {},
   "source": [
    "3. Reverse a List Using Slicing:\n",
    "Write a Python function that reverses a list using slicing.\n",
    "• Requirements:\n",
    "– Define a function reverse list(lst) that takes a list lst and returns a reversed list using\n",
    "slicing.\n",
    "– Example: For the input [1, 2, 3, 4, 5], the output should be [5, 4, 3, 2, 1]."
   ]
  },
  {
   "cell_type": "code",
   "execution_count": 10,
   "id": "c3debba4-5602-47bf-a784-f1e2cc355ca1",
   "metadata": {},
   "outputs": [
    {
     "name": "stdout",
     "output_type": "stream",
     "text": [
      "[5, 4, 3, 2, 1]\n"
     ]
    }
   ],
   "source": [
    "def reverse_list(lst):\n",
    "    \"\"\"\n",
    "    Function to reverse a list using slicing.\n",
    "    \n",
    "    Parameters:\n",
    "    lst (list): The input list to be reversed.\n",
    "    \n",
    "    Returns:\n",
    "    list: A new list with the elements in reverse order.\n",
    "    \"\"\"\n",
    "    return lst[::-1]\n",
    "\n",
    "# Example usage:\n",
    "print(reverse_list([1, 2, 3, 4, 5]))\n"
   ]
  },
  {
   "cell_type": "markdown",
   "id": "a1f0f2fc-3b69-4315-b16c-64a60b1da307",
   "metadata": {},
   "source": [
    "4. Remove the First and Last Elements:\n",
    "Write a Python function that removes the first and last elements of a list and returns the resulting\n",
    "sublist.\n",
    "• Requirements:\n",
    "– Define a function remove first last(lst) that takes a list lst and returns a sublist without\n",
    "the first and last elements using slicing.\n",
    "– Example: For the input [1, 2, 3, 4, 5], the output should be [2, 3, 4]."
   ]
  },
  {
   "cell_type": "code",
   "execution_count": 11,
   "id": "97dcc13b-0e11-499a-90ec-0f558ad3e3b2",
   "metadata": {},
   "outputs": [
    {
     "name": "stdout",
     "output_type": "stream",
     "text": [
      "[2, 3, 4]\n"
     ]
    }
   ],
   "source": [
    "def remove_first_last(lst):\n",
    "    \"\"\"\n",
    "    Function to remove the first and last elements of a list and return the resulting sublist.\n",
    "    \n",
    "    Parameters:\n",
    "    lst (list): The input list from which the first and last elements will be removed.\n",
    "    \n",
    "    Returns:\n",
    "    list: A new list without the first and last elements.\n",
    "    \"\"\"\n",
    "    return lst[1:-1]\n",
    "\n",
    "# Example usage:\n",
    "print(remove_first_last([1, 2, 3, 4, 5]))\n"
   ]
  },
  {
   "cell_type": "markdown",
   "id": "e9c4f2e0-d2c7-4e0e-b656-4387b0c77df6",
   "metadata": {},
   "source": [
    "5. Get the First n Elements:\n",
    "Write a Python function that extracts the first n elements from a list.\n",
    "• Requirements:\n",
    "– Define a function get first n(lst, n) that takes a list lst and an integer n as input and\n",
    "returns the first n elements of the list using slicing.\n",
    "– Example: For the input [1, 2, 3, 4, 5] with n=3, the output should be [1, 2, 3]."
   ]
  },
  {
   "cell_type": "code",
   "execution_count": 12,
   "id": "0bc709df-4646-4fa5-96fe-fcc9e1fb183b",
   "metadata": {},
   "outputs": [
    {
     "name": "stdout",
     "output_type": "stream",
     "text": [
      "[1, 2, 3]\n"
     ]
    }
   ],
   "source": [
    "def get_first_n(lst, n):\n",
    "    \"\"\"\n",
    "    Function to extract the first n elements from a list.\n",
    "    \n",
    "    Parameters:\n",
    "    lst (list): The input list from which the first n elements will be extracted.\n",
    "    n (int): The number of elements to extract from the beginning of the list.\n",
    "    \n",
    "    Returns:\n",
    "    list: A new list containing the first n elements.\n",
    "    \"\"\"\n",
    "    return lst[:n]\n",
    "\n",
    "# Example usage:\n",
    "print(get_first_n([1, 2, 3, 4, 5], 3))\n"
   ]
  },
  {
   "cell_type": "markdown",
   "id": "bc388825-0d42-44a6-b49c-b3eb6334c203",
   "metadata": {},
   "source": [
    "6. Extract Elements from the End:\n",
    "Write a Python function that extracts the last n elements of a list using slicing.\n",
    "• Requirements:\n",
    "– Define a function get last n(lst, n) that takes a list lst and an integer n as input and\n",
    "returns the last n elements of the list.\n",
    "– Example: For the input [1, 2, 3, 4, 5] with n=2, the output should be [4, 5]."
   ]
  },
  {
   "cell_type": "code",
   "execution_count": 13,
   "id": "0e4b4036-4d3c-44fa-aecd-35fda36b2424",
   "metadata": {},
   "outputs": [
    {
     "name": "stdout",
     "output_type": "stream",
     "text": [
      "[4, 5]\n"
     ]
    }
   ],
   "source": [
    "def get_last_n(lst, n):\n",
    "    \"\"\"\n",
    "    Function to extract the last n elements from a list.\n",
    "    \n",
    "    Parameters:\n",
    "    lst (list): The input list from which the last n elements will be extracted.\n",
    "    n (int): The number of elements to extract from the end of the list.\n",
    "    \n",
    "    Returns:\n",
    "    list: A new list containing the last n elements.\n",
    "    \"\"\"\n",
    "    return lst[-n:]\n",
    "\n",
    "# Example usage:\n",
    "print(get_last_n([1, 2, 3, 4, 5], 2))\n"
   ]
  },
  {
   "cell_type": "markdown",
   "id": "87a78c32-5940-42ce-9f51-8e6b07e39fa2",
   "metadata": {},
   "source": [
    "7. Extract Elements in Reverse Order:\n",
    "Write a Python function that extracts a list of elements in reverse order starting from the second-to-last\n",
    "element and skipping one element in between.\n",
    "• Requirements:\n",
    "– Define a function reverse skip(lst) that takes a list lst and returns a new list containing\n",
    "every second element starting from the second-to-last, moving backward.\n",
    "– Example: For the input [1, 2, 3, 4, 5, 6], the output should be [5, 3, 1].\n"
   ]
  },
  {
   "cell_type": "code",
   "execution_count": 14,
   "id": "b37f598c-907b-48da-80ea-d9d4ee969a69",
   "metadata": {},
   "outputs": [
    {
     "name": "stdout",
     "output_type": "stream",
     "text": [
      "[5, 3, 1]\n"
     ]
    }
   ],
   "source": [
    "def reverse_skip(lst):\n",
    "    \"\"\"\n",
    "    Function to extract every second element in reverse order starting from the second-to-last element.\n",
    "    \n",
    "    Parameters:\n",
    "    lst (list): The input list from which elements will be extracted.\n",
    "    \n",
    "    Returns:\n",
    "    list: A new list containing every second element starting from the second-to-last, moving backward.\n",
    "    \"\"\"\n",
    "    return lst[-2::-2]\n",
    "\n",
    "# Example usage:\n",
    "print(reverse_skip([1, 2, 3, 4, 5, 6]))\n"
   ]
  },
  {
   "cell_type": "markdown",
   "id": "f04c8a1e-76b3-4268-9eaa-d5862d86f958",
   "metadata": {},
   "source": [
    "**4.3 Exercise on Nested List:**"
   ]
  },
  {
   "cell_type": "markdown",
   "id": "186d5fe3-19f2-496d-9250-b6076ca6ffaa",
   "metadata": {},
   "source": [
    "1. Flatten a Nested List:\n",
    "Write a Python function that takes a nested list and flattens it into a single list, where all the elements\n",
    "are in a single dimension.\n",
    "• Requirements:\n",
    "– Define a function flatten(lst) that takes a nested list lst and returns a flattened version\n",
    "of the list.\n",
    "– Example: For the input [[1, 2], [3, 4], [5]], the output should be [1, 2, 3, 4, 5]."
   ]
  },
  {
   "cell_type": "code",
   "execution_count": 15,
   "id": "e7e85c53-1231-4d3e-9273-03b92bfeb56f",
   "metadata": {},
   "outputs": [
    {
     "name": "stdout",
     "output_type": "stream",
     "text": [
      "[1, 2, 3, 4, 5]\n"
     ]
    }
   ],
   "source": [
    "def flatten(lst):\n",
    "    \"\"\"\n",
    "    Function to flatten a nested list into a single list.\n",
    "    \n",
    "    Parameters:\n",
    "    lst (list): A nested list to be flattened.\n",
    "    \n",
    "    Returns:\n",
    "    list: A flattened version of the list with all elements in a single dimension.\n",
    "    \"\"\"\n",
    "    return [item for sublist in lst for item in sublist]\n",
    "\n",
    "# Example usage:\n",
    "print(flatten([[1, 2], [3, 4], [5]]))\n"
   ]
  },
  {
   "cell_type": "markdown",
   "id": "46cc556c-c637-4081-9b65-2ced47184050",
   "metadata": {},
   "source": [
    "2. Accessing Nested List Elements:\n",
    "Write a Python function that extracts a specific element from a nested list given its indices.\n",
    "• Requirements:\n",
    "– Define a function access nested element(lst, indices) that takes a nested list lst and\n",
    "a list of indices indices, and returns the element at that position.\n",
    "– Example: For the input lst = [[1, 2, 3], [4, 5, 6], [7, 8, 9]] with indices = [1,\n",
    "2], the output should be 6.\n"
   ]
  },
  {
   "cell_type": "code",
   "execution_count": 16,
   "id": "1306fa7a-114b-4793-8466-89734af73a8f",
   "metadata": {},
   "outputs": [
    {
     "name": "stdout",
     "output_type": "stream",
     "text": [
      "6\n"
     ]
    }
   ],
   "source": [
    "def access_nested_element(lst, indices):\n",
    "    \"\"\"\n",
    "    Function to access a specific element from a nested list using a list of indices.\n",
    "    \n",
    "    Parameters:\n",
    "    lst (list): The nested list from which the element will be extracted.\n",
    "    indices (list): A list of indices representing the path to the element.\n",
    "    \n",
    "    Returns:\n",
    "    element: The element at the specified indices in the nested list.\n",
    "    \"\"\"\n",
    "    for index in indices:\n",
    "        lst = lst[index]\n",
    "    return lst\n",
    "\n",
    "# Example usage:\n",
    "print(access_nested_element([[1, 2, 3], [4, 5, 6], [7, 8, 9]], [1, 2]))\n"
   ]
  },
  {
   "cell_type": "markdown",
   "id": "95d5d8a8-01a3-4878-9f23-fdcb5d3c5cc4",
   "metadata": {},
   "source": [
    "3. Sum of All Elements in a Nested List:\n",
    "Write a Python function that calculates the sum of all the numbers in a nested list (regardless of depth).\n",
    "• Requirements:\n",
    "– Define a function sum nested(lst) that takes a nested list lst and returns the sum of all\n",
    "the elements.\n",
    "– Example: For the input [[1, 2], [3, [4, 5]], 6], the output should be 21."
   ]
  },
  {
   "cell_type": "code",
   "execution_count": 17,
   "id": "7817432e-b734-47c9-8b87-24c72380bdbc",
   "metadata": {},
   "outputs": [
    {
     "name": "stdout",
     "output_type": "stream",
     "text": [
      "21\n"
     ]
    }
   ],
   "source": [
    "def sum_nested(lst):\n",
    "    \"\"\"\n",
    "    Function to calculate the sum of all numbers in a nested list, regardless of depth.\n",
    "    \n",
    "    Parameters:\n",
    "    lst (list): A nested list containing integers or further sublists.\n",
    "    \n",
    "    Returns:\n",
    "    int: The sum of all the elements in the nested list.\n",
    "    \"\"\"\n",
    "    total = 0\n",
    "    for item in lst:\n",
    "        if isinstance(item, list):\n",
    "            total += sum_nested(item)  # Recursively call the function for nested lists\n",
    "        else:\n",
    "            total += item  # Add the element to the total\n",
    "    return total\n",
    "\n",
    "# Example usage:\n",
    "print(sum_nested([[1, 2], [3, [4, 5]], 6]))\n"
   ]
  },
  {
   "cell_type": "markdown",
   "id": "f43e3f3a-c73b-4945-b6e0-aac53fe458ae",
   "metadata": {},
   "source": [
    "4. Remove Specific Element from a Nested List:\n",
    "Write a Python function that removes all occurrences of a specific element from a nested list.\n",
    "• Requirements:\n",
    "– Define a function remove element(lst, elem) that removes elem from lst and returns the\n",
    "modified list.\n",
    "– Example: For the input lst = [[1, 2], [3, 2], [4, 5]] and elem = 2, the output should\n",
    "be [[1], [3], [4, 5]].\n"
   ]
  },
  {
   "cell_type": "code",
   "execution_count": null,
   "id": "8ef1b60d-38a5-4e9d-9ac1-9bfd86ed00e3",
   "metadata": {},
   "outputs": [],
   "source": [
    "def remove_element(lst, elem):\n",
    "    \"\"\"\n",
    "    Function to remove all occurrences of a specific element from a nested list.\n",
    "    \n",
    "    Parameters:\n",
    "    lst (list): The nested list from which the element will be removed.\n",
    "    elem (any): The element to be removed from the list.\n",
    "    \n",
    "    Returns:\n",
    "    list: The modified list with all occurrences of elem removed.\n",
    "    \"\"\"\n",
    "    for i in range(len(lst)):\n",
    "        if isinstance(lst[i], list):\n",
    "            lst[i] = remove_element(lst[i], elem)  # Recursively remove from sublists\n",
    "        else:\n",
    "            # Remove all occurrences of elem if it's a list, not an integer\n",
    "            if lst[i] == elem:\n",
    "                lst[i] = None  # Set the element to None for easy removal\n",
    "    # Remove any None values after processing the entire list\n",
    "    return [item for item in lst if item is not None]\n",
    "\n",
    "# Example usage:\n",
    "print(remove_element([[1, 2], [3, 2], [4, 5]], 2))\n"
   ]
  },
  {
   "cell_type": "markdown",
   "id": "9ef1d825-a218-4a3a-9590-67e11998097b",
   "metadata": {},
   "source": [
    "5. Find the Maximum Element in a Nested List:\n",
    "Write a Python function that finds the maximum element in a nested list (regardless of depth).\n",
    "• Requirements:\n",
    "– Define a function find max(lst) that takes a nested list lst and returns the maximum\n",
    "element.\n",
    "– Example: For the input [[1, 2], [3, [4, 5]], 6], the output should be 6."
   ]
  },
  {
   "cell_type": "code",
   "execution_count": 21,
   "id": "eb264f85-6b79-4358-88a9-87d76b317d21",
   "metadata": {},
   "outputs": [
    {
     "name": "stdout",
     "output_type": "stream",
     "text": [
      "6\n"
     ]
    }
   ],
   "source": [
    "def find_max(lst):\n",
    "    \"\"\"\n",
    "    Function to find the maximum element in a nested list, regardless of depth.\n",
    "    \n",
    "    Parameters:\n",
    "    lst (list): A nested list containing integers or further sublists.\n",
    "    \n",
    "    Returns:\n",
    "    int: The maximum element in the nested list.\n",
    "    \"\"\"\n",
    "    max_element = float('-inf')  # Initialize to negative infinity\n",
    "    \n",
    "    for item in lst:\n",
    "        if isinstance(item, list):\n",
    "            # Recursively call find_max on nested lists\n",
    "            max_element = max(max_element, find_max(item))\n",
    "        else:\n",
    "            # Compare and update max_element for non-list items\n",
    "            max_element = max(max_element, item)\n",
    "    \n",
    "    return max_element\n",
    "\n",
    "# Example usage:\n",
    "print(find_max([[1, 2], [3, [4, 5]], 6]))\n"
   ]
  },
  {
   "cell_type": "markdown",
   "id": "2af102ab-ae82-43b2-b591-5ec394c3115b",
   "metadata": {},
   "source": [
    "6. Count Occurrences of an Element in a Nested List:\n",
    "Write a Python function that counts how many times a specific element appears in a nested list.\n",
    "• Requirements:\n",
    "– Define a function count occurrences(lst, elem) that counts the occurrences of elem in\n",
    "the nested list lst.\n",
    "– Example: For the input lst = [[1, 2], [2, 3], [2, 4]] and elem = 2, the output should\n",
    "be 3."
   ]
  },
  {
   "cell_type": "code",
   "execution_count": 22,
   "id": "c9acc19b-a911-4f75-972f-520734fe9b42",
   "metadata": {},
   "outputs": [
    {
     "name": "stdout",
     "output_type": "stream",
     "text": [
      "3\n"
     ]
    }
   ],
   "source": [
    "def count_occurrences(lst, elem):\n",
    "    \"\"\"\n",
    "    Function to count how many times a specific element appears in a nested list.\n",
    "    \n",
    "    Parameters:\n",
    "    lst (list): A nested list containing integers or further sublists.\n",
    "    elem (any): The element whose occurrences need to be counted.\n",
    "    \n",
    "    Returns:\n",
    "    int: The count of occurrences of elem in the nested list.\n",
    "    \"\"\"\n",
    "    count = 0\n",
    "    \n",
    "    for item in lst:\n",
    "        if isinstance(item, list):\n",
    "            # Recursively count occurrences in nested lists\n",
    "            count += count_occurrences(item, elem)\n",
    "        else:\n",
    "            # Count occurrences in non-list elements\n",
    "            if item == elem:\n",
    "                count += 1\n",
    "    \n",
    "    return count\n",
    "\n",
    "# Example usage:\n",
    "print(count_occurrences([[1, 2], [2, 3], [2, 4]], 2))\n"
   ]
  },
  {
   "cell_type": "markdown",
   "id": "ebe8d96b-2e77-405a-9fa1-988a23702b8e",
   "metadata": {},
   "source": [
    "7. Flatten a List of Lists of Lists:\n",
    "Write a Python function that flattens a list of lists of lists into a single list, regardless of the depth.\n",
    "• Requirements:\n",
    "– Define a function deep flatten(lst) that takes a deeply nested list lst and returns a single\n",
    "flattened list.\n",
    "– Example: For the input [[[1, 2], [3, 4]], [[5, 6], [7, 8]]], the output should be\n",
    "[1, 2, 3, 4, 5, 6, 7, 8]."
   ]
  },
  {
   "cell_type": "code",
   "execution_count": 23,
   "id": "d003e959-cea3-4708-babd-1f7aced5d01d",
   "metadata": {},
   "outputs": [
    {
     "name": "stdout",
     "output_type": "stream",
     "text": [
      "[1, 2, 3, 4, 5, 6, 7, 8]\n"
     ]
    }
   ],
   "source": [
    "def deep_flatten(lst):\n",
    "    \"\"\"\n",
    "    Function to flatten a deeply nested list of lists into a single list.\n",
    "    \n",
    "    Parameters:\n",
    "    lst (list): A deeply nested list to be flattened.\n",
    "    \n",
    "    Returns:\n",
    "    list: A single flattened list containing all the elements.\n",
    "    \"\"\"\n",
    "    flattened = []\n",
    "    \n",
    "    for item in lst:\n",
    "        if isinstance(item, list):\n",
    "            # Recursively flatten nested lists\n",
    "            flattened.extend(deep_flatten(item))\n",
    "        else:\n",
    "            # Add non-list elements directly to the flattened list\n",
    "            flattened.append(item)\n",
    "    \n",
    "    return flattened\n",
    "\n",
    "# Example usage:\n",
    "print(deep_flatten([[[1, 2], [3, 4]], [[5, 6], [7, 8]]]))\n"
   ]
  },
  {
   "cell_type": "markdown",
   "id": "dd31e91f-97c1-4fa6-963c-2edc42c15570",
   "metadata": {},
   "source": [
    "8. Nested List Average:\n",
    "Write a Python function that calculates the average of all elements in a nested list.\n",
    "• Requirements:\n",
    "– Define a function average nested(lst) that takes a nested list lst and returns the average\n",
    "of all the elements.\n",
    "– Example: For the input [[1, 2], [3, 4], [5, 6]], the output should be 3.5."
   ]
  },
  {
   "cell_type": "code",
   "execution_count": 25,
   "id": "324de1ce-4a5f-4b22-86a8-70dbb192f8eb",
   "metadata": {},
   "outputs": [
    {
     "name": "stdout",
     "output_type": "stream",
     "text": [
      "3.5\n"
     ]
    }
   ],
   "source": [
    "def average_nested(lst):\n",
    "    \"\"\"\n",
    "    Function to calculate the average of all elements in a nested list.\n",
    "    \n",
    "    Parameters:\n",
    "    lst (list): A nested list containing integers or further sublists.\n",
    "    \n",
    "    Returns:\n",
    "    float: The average of all elements in the nested list.\n",
    "    \"\"\"\n",
    "    total = 0\n",
    "    count = 0\n",
    "    \n",
    "    for item in lst:\n",
    "        if isinstance(item, list):\n",
    "            # Recursively sum and count elements in nested lists\n",
    "            nested_total, nested_count = average_nested(item)\n",
    "            total += nested_total\n",
    "            count += nested_count\n",
    "        else:\n",
    "            # Add the element to the total and count\n",
    "            total += item\n",
    "            count += 1\n",
    "    \n",
    "    # Return the total and count\n",
    "    return total, count\n",
    "\n",
    "# Example usage:\n",
    "total, count = average_nested([[1, 2], [3, 4], [5, 6]])\n",
    "average = total / count if count > 0 else 0\n",
    "print(average)\n"
   ]
  },
  {
   "cell_type": "markdown",
   "id": "97dda1f3-0c2d-425a-a7d2-632a28bbde1e",
   "metadata": {},
   "source": [
    "# 10 To - Do - NumPy\n"
   ]
  },
  {
   "cell_type": "markdown",
   "id": "f1bfb2eb-6366-4bda-b952-e890a523615e",
   "metadata": {},
   "source": [
    "**10.1 Basic Vector and Matrix Operation with Numpy.**"
   ]
  },
  {
   "cell_type": "markdown",
   "id": "13debff9-4c26-4cb0-aed4-1d317b9aae6b",
   "metadata": {},
   "source": [
    "***Problem - 1: Array Creation:***\n",
    "    \n",
    "    Complete the following Tasks:\n",
    "1. Initialize an empty array with size 2X2.\n",
    "2. Initialize an all one array with size 4X2.\n",
    "3. Return a new array of given shape and type, filled with fill value.{Hint: np.full}\n",
    "4. Return a new array of zeros with same shape and type as a given array.{Hint: np.zeros like}\n",
    "5. Return a new array of ones with same shape and type as a given array.{Hint: np.ones like}\n",
    "6. For an existing list new_list = [1,2,3,4] convert to an numpy array.{Hint: np.array()}\n"
   ]
  },
  {
   "cell_type": "markdown",
   "id": "c91a3357-d3da-4267-8032-837e069f3a5c",
   "metadata": {},
   "source": [
    "Task 1: Initialize an empty array with size 2x2"
   ]
  },
  {
   "cell_type": "code",
   "execution_count": 27,
   "id": "dccb2813-a7fb-46e0-b094-46f1c62aee99",
   "metadata": {},
   "outputs": [
    {
     "name": "stdout",
     "output_type": "stream",
     "text": [
      "Empty Array (2x2):\n",
      " [[1.23077925e-312 4.45042952e-307]\n",
      " [3.44900369e-307 2.11392372e-307]]\n"
     ]
    }
   ],
   "source": [
    "import numpy as np\n",
    "\n",
    "# Create an empty array of size 2x2\n",
    "empty_array = np.empty((2, 2))\n",
    "print(\"Empty Array (2x2):\\n\", empty_array)"
   ]
  },
  {
   "cell_type": "markdown",
   "id": "353910e3-23e6-4d2a-932a-951ae881e8b1",
   "metadata": {},
   "source": [
    "Task 2: Initialize an all-one array with size 4x2"
   ]
  },
  {
   "cell_type": "code",
   "execution_count": 28,
   "id": "53bb3772-73b8-4b26-a910-ab7b0a5e77c8",
   "metadata": {},
   "outputs": [
    {
     "name": "stdout",
     "output_type": "stream",
     "text": [
      "\n",
      "All-One Array (4x2):\n",
      " [[1. 1.]\n",
      " [1. 1.]\n",
      " [1. 1.]\n",
      " [1. 1.]]\n"
     ]
    }
   ],
   "source": [
    "# Create an all-one array of size 4x2\n",
    "ones_array = np.ones((4, 2))\n",
    "print(\"\\nAll-One Array (4x2):\\n\", ones_array)"
   ]
  },
  {
   "cell_type": "markdown",
   "id": "a8386b10-972d-4047-ae48-8d480c92e937",
   "metadata": {},
   "source": [
    "Task 3: Return a new array of given shape and type, filled with a fill value\n"
   ]
  },
  {
   "cell_type": "code",
   "execution_count": 29,
   "id": "9b6597d1-6284-4be7-a303-17358220e14d",
   "metadata": {},
   "outputs": [
    {
     "name": "stdout",
     "output_type": "stream",
     "text": [
      "\n",
      "Filled Array (3x3) with value 7:\n",
      " [[7 7 7]\n",
      " [7 7 7]\n",
      " [7 7 7]]\n"
     ]
    }
   ],
   "source": [
    "# Create a new array of shape (3, 3) filled with the value 7\n",
    "fill_value = 7\n",
    "filled_array = np.full((3, 3), fill_value)\n",
    "print(\"\\nFilled Array (3x3) with value 7:\\n\", filled_array)"
   ]
  },
  {
   "cell_type": "markdown",
   "id": "6c4292ce-0f54-4669-aaba-ef3df34792a8",
   "metadata": {},
   "source": [
    "Task 4: Return a new array of zeros with the same shape and type as a given array\n"
   ]
  },
  {
   "cell_type": "code",
   "execution_count": 30,
   "id": "ff9fc3bb-61b4-4cd2-be3d-7d38e77c4f59",
   "metadata": {},
   "outputs": [
    {
     "name": "stdout",
     "output_type": "stream",
     "text": [
      "\n",
      "Zeros Array with same shape and type as given array:\n",
      " [[0 0]\n",
      " [0 0]]\n"
     ]
    }
   ],
   "source": [
    "# Given array\n",
    "given_array = np.array([[1, 2], [3, 4]])\n",
    "\n",
    "# Create a new array of zeros with the same shape and type as the given array\n",
    "zeros_like_array = np.zeros_like(given_array)\n",
    "print(\"\\nZeros Array with same shape and type as given array:\\n\", zeros_like_array)"
   ]
  },
  {
   "cell_type": "markdown",
   "id": "6433d8a8-5733-4a79-a974-c1ab8a2cb6b5",
   "metadata": {},
   "source": [
    "Task 5: Return a new array of ones with the same shape and type as a given array\n"
   ]
  },
  {
   "cell_type": "code",
   "execution_count": 31,
   "id": "e59d9315-7a6f-42ad-b564-d4ccb90b4dce",
   "metadata": {},
   "outputs": [
    {
     "name": "stdout",
     "output_type": "stream",
     "text": [
      "\n",
      "Ones Array with same shape and type as given array:\n",
      " [[1 1]\n",
      " [1 1]]\n"
     ]
    }
   ],
   "source": [
    "# Create a new array of ones with the same shape and type as the given array\n",
    "ones_like_array = np.ones_like(given_array)\n",
    "print(\"\\nOnes Array with same shape and type as given array:\\n\", ones_like_array)"
   ]
  },
  {
   "cell_type": "markdown",
   "id": "d536ce54-f07c-46ec-8154-cce44938881c",
   "metadata": {},
   "source": [
    "Task 6: Convert an existing list to a NumPy array\n"
   ]
  },
  {
   "cell_type": "code",
   "execution_count": 32,
   "id": "e567eace-efb9-43d1-a48e-d4ab5f0fd3f9",
   "metadata": {},
   "outputs": [
    {
     "name": "stdout",
     "output_type": "stream",
     "text": [
      "\n",
      "NumPy Array from List:\n",
      " [1 2 3 4]\n"
     ]
    }
   ],
   "source": [
    "# Existing list\n",
    "new_list = [1, 2, 3, 4]\n",
    "\n",
    "# Convert the list to a NumPy array\n",
    "numpy_array = np.array(new_list)\n",
    "print(\"\\nNumPy Array from List:\\n\", numpy_array)"
   ]
  },
  {
   "cell_type": "markdown",
   "id": "a6eb1ec7-cead-4d9e-8cdf-82d8e42e7499",
   "metadata": {},
   "source": [
    "***Problem - 2: Array Manipulation: Numerical Ranges and Array indexing:***\n",
    "\n",
    "    Complete the following tasks:\n",
    "1. Create an array with values ranging from 10 to 49. {Hint:np.arrange()}.\n",
    "2. Create a 3X3 matrix with values ranging from 0 to 8.\n",
    "{Hint:look for np.reshape()}\n",
    "3. Create a 3X3 identity matrix.{Hint:np.eye()}\n",
    "4. Create a random array of size 30 and find the mean of the array.\n",
    "{Hint:check for np.random.random() and array.mean() function}\n",
    "5. Create a 10X10 array with random values and find the minimum and maximum values.\n",
    "6. Create a zero array of size 10 and replace 5th element with 1.\n",
    "7. Reverse an array arr = [1,2,0,0,4,0].\n",
    "8. Create a 2d array with 1 on border and 0 inside.\n",
    "9. Create a 8X8 matrix and fill it with a checkerboard pattern."
   ]
  },
  {
   "cell_type": "markdown",
   "id": "488a0329-bfab-4946-a63a-d257faaab72b",
   "metadata": {},
   "source": [
    "Task 1: Create an array with values ranging from 10 to 49\n"
   ]
  },
  {
   "cell_type": "code",
   "execution_count": 33,
   "id": "27dc4e00-0129-421a-869b-c49b7163054a",
   "metadata": {},
   "outputs": [
    {
     "name": "stdout",
     "output_type": "stream",
     "text": [
      "Array with values ranging from 10 to 49:\n",
      " [10 11 12 13 14 15 16 17 18 19 20 21 22 23 24 25 26 27 28 29 30 31 32 33\n",
      " 34 35 36 37 38 39 40 41 42 43 44 45 46 47 48 49]\n"
     ]
    }
   ],
   "source": [
    "# Create an array with values ranging from 10 to 49\n",
    "array_10_to_49 = np.arange(10, 50)\n",
    "print(\"Array with values ranging from 10 to 49:\\n\", array_10_to_49)"
   ]
  },
  {
   "cell_type": "markdown",
   "id": "ffe0dcca-0d03-4c26-9913-09f777847f85",
   "metadata": {},
   "source": [
    "Task 2: Create a 3x3 matrix with values ranging from 0 to 8\n"
   ]
  },
  {
   "cell_type": "code",
   "execution_count": 34,
   "id": "89b50978-de6f-4e02-915f-d929c7c6ab77",
   "metadata": {},
   "outputs": [
    {
     "name": "stdout",
     "output_type": "stream",
     "text": [
      "\n",
      "3x3 Matrix with values ranging from 0 to 8:\n",
      " [[0 1 2]\n",
      " [3 4 5]\n",
      " [6 7 8]]\n"
     ]
    }
   ],
   "source": [
    "# Create a 3x3 matrix with values ranging from 0 to 8\n",
    "matrix_3x3 = np.arange(9).reshape(3, 3)\n",
    "print(\"\\n3x3 Matrix with values ranging from 0 to 8:\\n\", matrix_3x3)"
   ]
  },
  {
   "cell_type": "markdown",
   "id": "60dda0c9-e8de-48db-a761-b4c6996a7f4c",
   "metadata": {},
   "source": [
    "Task 3: Create a 3x3 identity matrix\n"
   ]
  },
  {
   "cell_type": "code",
   "execution_count": 35,
   "id": "db0df8b9-075b-46f1-9dec-413db3e8d876",
   "metadata": {},
   "outputs": [
    {
     "name": "stdout",
     "output_type": "stream",
     "text": [
      "\n",
      "3x3 Identity Matrix:\n",
      " [[1. 0. 0.]\n",
      " [0. 1. 0.]\n",
      " [0. 0. 1.]]\n"
     ]
    }
   ],
   "source": [
    "# Create a 3x3 identity matrix\n",
    "identity_matrix = np.eye(3)\n",
    "print(\"\\n3x3 Identity Matrix:\\n\", identity_matrix)"
   ]
  },
  {
   "cell_type": "markdown",
   "id": "68abc707-34eb-4df9-a1c1-66ca596f5472",
   "metadata": {},
   "source": [
    "Task 4: Create a random array of size 30 and find the mean\n"
   ]
  },
  {
   "cell_type": "code",
   "execution_count": 36,
   "id": "4f517f04-db7b-46de-8412-e34206a9e731",
   "metadata": {},
   "outputs": [
    {
     "name": "stdout",
     "output_type": "stream",
     "text": [
      "\n",
      "Random Array of size 30:\n",
      " [0.55629336 0.95309592 0.6577653  0.33587262 0.58721389 0.84745164\n",
      " 0.2697468  0.80470879 0.09974286 0.24209558 0.63301154 0.30078475\n",
      " 0.65983679 0.26206763 0.30205814 0.65255223 0.96577774 0.8923584\n",
      " 0.29350184 0.62049202 0.39391525 0.84797337 0.67545734 0.60795939\n",
      " 0.75462016 0.83112643 0.12820637 0.38743618 0.3539579  0.89281117]\n",
      "Mean of the array: 0.5603297135652485\n"
     ]
    }
   ],
   "source": [
    "# Create a random array of size 30\n",
    "random_array = np.random.random(30)\n",
    "\n",
    "# Find the mean of the array\n",
    "mean_value = random_array.mean()\n",
    "print(\"\\nRandom Array of size 30:\\n\", random_array)\n",
    "print(\"Mean of the array:\", mean_value)"
   ]
  },
  {
   "cell_type": "markdown",
   "id": "13cb484e-6e8f-4e91-b971-66dfdfbe7ac3",
   "metadata": {},
   "source": [
    "Task 5: Create a 10x10 array with random values and find the minimum and maximum\n"
   ]
  },
  {
   "cell_type": "code",
   "execution_count": 37,
   "id": "1cacf26b-67d4-44bc-b598-8343c4a18fca",
   "metadata": {},
   "outputs": [
    {
     "name": "stdout",
     "output_type": "stream",
     "text": [
      "\n",
      "10x10 Random Array:\n",
      " [[0.91351642 0.58265913 0.2252963  0.68039881 0.80292036 0.99750721\n",
      "  0.58474127 0.47122937 0.3721943  0.46882508]\n",
      " [0.59523579 0.84103948 0.00729931 0.26800739 0.90939195 0.41330013\n",
      "  0.27589827 0.40827312 0.3426678  0.4111099 ]\n",
      " [0.75238834 0.67897466 0.61552165 0.07000859 0.24042654 0.93180791\n",
      "  0.09885547 0.37733847 0.16332416 0.61847521]\n",
      " [0.99488121 0.93028365 0.44280537 0.57577365 0.33009329 0.87838671\n",
      "  0.0915868  0.3233177  0.2494111  0.53694669]\n",
      " [0.98367531 0.78045337 0.14620373 0.88718619 0.10961387 0.74092899\n",
      "  0.01721593 0.15119525 0.6221064  0.8428041 ]\n",
      " [0.77649369 0.98060412 0.44360359 0.51255258 0.15448877 0.14197753\n",
      "  0.48862604 0.82203463 0.78809514 0.93770747]\n",
      " [0.40088714 0.30930871 0.36003835 0.21349518 0.18115401 0.35637284\n",
      "  0.94697494 0.8298701  0.8113478  0.81594937]\n",
      " [0.04107133 0.46668063 0.20949626 0.87125246 0.66380542 0.37354872\n",
      "  0.72973914 0.48393256 0.51941711 0.88253404]\n",
      " [0.43248671 0.63021272 0.47413861 0.65215733 0.02122325 0.70864929\n",
      "  0.81147166 0.64311044 0.08133735 0.23025061]\n",
      " [0.90859204 0.04162388 0.36695006 0.06804673 0.68583294 0.72963554\n",
      "  0.84709179 0.20151069 0.68124272 0.11589636]]\n",
      "Minimum value: 0.007299306544677031\n",
      "Maximum value: 0.9975072072918348\n"
     ]
    }
   ],
   "source": [
    "# Create a 10x10 array with random values\n",
    "random_10x10 = np.random.random((10, 10))\n",
    "\n",
    "# Find the minimum and maximum values\n",
    "min_value = random_10x10.min()\n",
    "max_value = random_10x10.max()\n",
    "print(\"\\n10x10 Random Array:\\n\", random_10x10)\n",
    "print(\"Minimum value:\", min_value)\n",
    "print(\"Maximum value:\", max_value)"
   ]
  },
  {
   "cell_type": "markdown",
   "id": "5b3a2eb6-3c90-4f99-92d8-b9aa10b83518",
   "metadata": {},
   "source": [
    "Task 6: Create a zero array of size 10 and replace the 5th element with 1\n"
   ]
  },
  {
   "cell_type": "code",
   "execution_count": 38,
   "id": "7cb3bab1-15da-490b-9f8c-c4ee00ea6d96",
   "metadata": {},
   "outputs": [
    {
     "name": "stdout",
     "output_type": "stream",
     "text": [
      "\n",
      "Zero Array with 5th element replaced by 1:\n",
      " [0. 0. 0. 0. 1. 0. 0. 0. 0. 0.]\n"
     ]
    }
   ],
   "source": [
    "# Create a zero array of size 10\n",
    "zero_array = np.zeros(10)\n",
    "\n",
    "# Replace the 5th element with 1\n",
    "zero_array[4] = 1\n",
    "print(\"\\nZero Array with 5th element replaced by 1:\\n\", zero_array)"
   ]
  },
  {
   "cell_type": "markdown",
   "id": "01017f01-cd4d-4514-ae2f-801c8432744c",
   "metadata": {},
   "source": [
    "Task 7: Reverse an array arr = [1, 2, 0, 0, 4, 0]\n"
   ]
  },
  {
   "cell_type": "code",
   "execution_count": 39,
   "id": "aacf2bbe-c9ee-4b88-a8d5-d55eea17eb11",
   "metadata": {},
   "outputs": [
    {
     "name": "stdout",
     "output_type": "stream",
     "text": [
      "\n",
      "Reversed Array:\n",
      " [0 4 0 0 2 1]\n"
     ]
    }
   ],
   "source": [
    "# Original array\n",
    "arr = np.array([1, 2, 0, 0, 4, 0])\n",
    "\n",
    "# Reverse the array\n",
    "reversed_arr = arr[::-1]\n",
    "print(\"\\nReversed Array:\\n\", reversed_arr)"
   ]
  },
  {
   "cell_type": "markdown",
   "id": "707b8740-e299-4eaf-8fa4-ced8d2459faf",
   "metadata": {},
   "source": [
    "Task 8: Create a 2D array with 1 on the border and 0 inside\n"
   ]
  },
  {
   "cell_type": "code",
   "execution_count": 40,
   "id": "a7de2107-ba4c-49df-8794-b6ee68a05588",
   "metadata": {},
   "outputs": [
    {
     "name": "stdout",
     "output_type": "stream",
     "text": [
      "\n",
      "2D Array with 1 on the border and 0 inside:\n",
      " [[1. 1. 1. 1. 1.]\n",
      " [1. 0. 0. 0. 1.]\n",
      " [1. 0. 0. 0. 1.]\n",
      " [1. 0. 0. 0. 1.]\n",
      " [1. 1. 1. 1. 1.]]\n"
     ]
    }
   ],
   "source": [
    "# Create a 5x5 array with 1 on the border and 0 inside\n",
    "border_array = np.ones((5, 5))\n",
    "border_array[1:-1, 1:-1] = 0\n",
    "print(\"\\n2D Array with 1 on the border and 0 inside:\\n\", border_array)"
   ]
  },
  {
   "cell_type": "markdown",
   "id": "11e55d2e-8296-483d-841a-3eb7c64f6840",
   "metadata": {},
   "source": [
    "Task 9: Create an 8x8 matrix and fill it with a checkerboard pattern\n"
   ]
  },
  {
   "cell_type": "code",
   "execution_count": 41,
   "id": "8fc3a817-458c-4ee2-8cd0-8a7b07179033",
   "metadata": {},
   "outputs": [
    {
     "name": "stdout",
     "output_type": "stream",
     "text": [
      "\n",
      "8x8 Checkerboard Matrix:\n",
      " [[0 1 0 1 0 1 0 1]\n",
      " [1 0 1 0 1 0 1 0]\n",
      " [0 1 0 1 0 1 0 1]\n",
      " [1 0 1 0 1 0 1 0]\n",
      " [0 1 0 1 0 1 0 1]\n",
      " [1 0 1 0 1 0 1 0]\n",
      " [0 1 0 1 0 1 0 1]\n",
      " [1 0 1 0 1 0 1 0]]\n"
     ]
    }
   ],
   "source": [
    "# Create an 8x8 checkerboard matrix\n",
    "checkerboard = np.zeros((8, 8), dtype=int)\n",
    "checkerboard[1::2, ::2] = 1  # Set 1s in odd rows, even columns\n",
    "checkerboard[::2, 1::2] = 1  # Set 1s in even rows, odd columns\n",
    "print(\"\\n8x8 Checkerboard Matrix:\\n\", checkerboard)"
   ]
  },
  {
   "cell_type": "markdown",
   "id": "30193632-4f10-498e-91d0-81ca65b3bf12",
   "metadata": {},
   "source": [
    "***Problem - 3: Array Operations:***\n",
    "\n",
    "For the following arrays:\n",
    "x = np.array([[1,2],[3,5]]) and y = np.array([[5,6],[7,8]]);\n",
    "v = np.array([9,10]) and w = np.array([11,12]);\n",
    "Complete all the task using numpy:\n",
    "1. Add the two array.\n",
    "2. Subtract the two array.\n",
    "3. Multiply the array with any integers of your choice.\n",
    "4. Find the square of each element of the array.\n",
    "5. Find the dot product between: v(and)w ; x(and)v ; x(and)y.\n",
    "6. Concatenate x(and)y along row and Concatenate v(and)w along column.\n",
    "{Hint:try np.concatenate() or np.vstack() functions.\n",
    "7. Concatenate x(and)v; if you get an error, observe and explain why did you get the error?"
   ]
  },
  {
   "cell_type": "code",
   "execution_count": 45,
   "id": "5c7a7de9-daee-467d-bbee-9f6379789dcc",
   "metadata": {},
   "outputs": [],
   "source": [
    "x = np.array([[1, 2], [3, 5]])\n",
    "y = np.array([[5, 6], [7, 8]])\n",
    "v = np.array([9, 10])\n",
    "w = np.array([11, 12])"
   ]
  },
  {
   "cell_type": "markdown",
   "id": "64983b48-393a-4030-9bd1-ef90fa1c6294",
   "metadata": {},
   "source": [
    "Task 1: Add the two arrays\n"
   ]
  },
  {
   "cell_type": "code",
   "execution_count": 46,
   "id": "8acf9998-1c43-4b5d-953f-c6be97383893",
   "metadata": {},
   "outputs": [
    {
     "name": "stdout",
     "output_type": "stream",
     "text": [
      "Addition of x and y:\n",
      " [[ 6  8]\n",
      " [10 13]]\n"
     ]
    }
   ],
   "source": [
    "# Add x and y\n",
    "addition_result = x + y\n",
    "print(\"Addition of x and y:\\n\", addition_result)"
   ]
  },
  {
   "cell_type": "markdown",
   "id": "25756abd-9e66-49b2-8872-7257c0836440",
   "metadata": {},
   "source": [
    "Task 2: Subtract the two arrays\n"
   ]
  },
  {
   "cell_type": "code",
   "execution_count": 47,
   "id": "84eea65a-f46a-4010-bfdd-b251d77c31bd",
   "metadata": {},
   "outputs": [
    {
     "name": "stdout",
     "output_type": "stream",
     "text": [
      "\n",
      "Subtraction of y from x:\n",
      " [[-4 -4]\n",
      " [-4 -3]]\n"
     ]
    }
   ],
   "source": [
    "# Subtract y from x\n",
    "subtraction_result = x - y\n",
    "print(\"\\nSubtraction of y from x:\\n\", subtraction_result)"
   ]
  },
  {
   "cell_type": "markdown",
   "id": "ad6bfe34-561b-4f1f-a26c-fffcf72624fe",
   "metadata": {},
   "source": [
    "Task 3: Multiply the array with any integer of your choice\n"
   ]
  },
  {
   "cell_type": "code",
   "execution_count": 48,
   "id": "987720eb-427a-44a2-aa6e-7357606c3502",
   "metadata": {},
   "outputs": [
    {
     "name": "stdout",
     "output_type": "stream",
     "text": [
      "\n",
      "Multiplication of x by 3:\n",
      " [[ 3  6]\n",
      " [ 9 15]]\n"
     ]
    }
   ],
   "source": [
    "# Multiply x by 3\n",
    "scalar = 3\n",
    "multiplication_result = x * scalar\n",
    "print(\"\\nMultiplication of x by 3:\\n\", multiplication_result)"
   ]
  },
  {
   "cell_type": "markdown",
   "id": "89d6d6cf-c6ff-4b36-90ee-5abc0e84e576",
   "metadata": {},
   "source": [
    "Task 4: Find the square of each element of the array\n"
   ]
  },
  {
   "cell_type": "code",
   "execution_count": 49,
   "id": "d7e64162-aa60-42c4-84e9-d2b16f26a0f2",
   "metadata": {},
   "outputs": [
    {
     "name": "stdout",
     "output_type": "stream",
     "text": [
      "\n",
      "Square of each element in x:\n",
      " [[ 1  4]\n",
      " [ 9 25]]\n"
     ]
    }
   ],
   "source": [
    "# Square of each element in x\n",
    "square_result = x ** 2\n",
    "print(\"\\nSquare of each element in x:\\n\", square_result)"
   ]
  },
  {
   "cell_type": "markdown",
   "id": "f1fdc077-962c-454a-ab17-e42b4cfe4c3a",
   "metadata": {},
   "source": [
    "Task 5: Find the dot product\n"
   ]
  },
  {
   "cell_type": "code",
   "execution_count": 50,
   "id": "ba983aa9-c115-4810-a577-e0f316967065",
   "metadata": {},
   "outputs": [
    {
     "name": "stdout",
     "output_type": "stream",
     "text": [
      "\n",
      "Dot product of v and w: 219\n",
      "Dot product of x and v: [29 77]\n",
      "Dot product of x and y:\n",
      " [[19 22]\n",
      " [50 58]]\n"
     ]
    }
   ],
   "source": [
    "# Dot product of v and w\n",
    "dot_v_w = np.dot(v, w)\n",
    "print(\"\\nDot product of v and w:\", dot_v_w)\n",
    "\n",
    "# Dot product of x and v\n",
    "dot_x_v = np.dot(x, v)\n",
    "print(\"Dot product of x and v:\", dot_x_v)\n",
    "\n",
    "# Dot product of x and y\n",
    "dot_x_y = np.dot(x, y)\n",
    "print(\"Dot product of x and y:\\n\", dot_x_y)"
   ]
  },
  {
   "cell_type": "markdown",
   "id": "558d73f6-2321-4a51-9d58-1d78b2ffd441",
   "metadata": {},
   "source": [
    "Task 6: Concatenate arrays\n"
   ]
  },
  {
   "cell_type": "code",
   "execution_count": 51,
   "id": "b0e6d4fd-db2c-4cf5-9ac9-0655b7225610",
   "metadata": {},
   "outputs": [
    {
     "name": "stdout",
     "output_type": "stream",
     "text": [
      "\n",
      "Concatenation of x and y along rows:\n",
      " [[1 2]\n",
      " [3 5]\n",
      " [5 6]\n",
      " [7 8]]\n",
      "\n",
      "Concatenation of v and w along columns:\n",
      " [ 9 10 11 12]\n"
     ]
    }
   ],
   "source": [
    "# Concatenate x and y along rows (vertically)\n",
    "concat_rows = np.vstack((x, y))\n",
    "print(\"\\nConcatenation of x and y along rows:\\n\", concat_rows)\n",
    "\n",
    "# Concatenate v and w along columns (horizontally)\n",
    "concat_columns = np.hstack((v, w))\n",
    "print(\"\\nConcatenation of v and w along columns:\\n\", concat_columns)"
   ]
  },
  {
   "cell_type": "markdown",
   "id": "8ae406ca-0fbd-4136-9f13-850ab4df147d",
   "metadata": {},
   "source": [
    "Task 7: Concatenate x and v\n"
   ]
  },
  {
   "cell_type": "code",
   "execution_count": 52,
   "id": "a5cd064c-8bb0-45d4-9a14-67c3e3a12b56",
   "metadata": {},
   "outputs": [
    {
     "name": "stdout",
     "output_type": "stream",
     "text": [
      "\n",
      "Error when concatenating x and v:\n",
      "all the input arrays must have same number of dimensions, but the array at index 0 has 2 dimension(s) and the array at index 1 has 1 dimension(s)\n",
      "\n",
      "Concatenation of x and reshaped v:\n",
      " [[ 1  2]\n",
      " [ 3  5]\n",
      " [ 9 10]]\n"
     ]
    }
   ],
   "source": [
    "try:\n",
    "    # Attempt to concatenate x and v directly\n",
    "    concat_error = np.concatenate((x, v))\n",
    "except ValueError as e:\n",
    "    print(\"\\nError when concatenating x and v:\")\n",
    "    print(e)\n",
    "\n",
    "# Fix the error by reshaping v into a 2D array\n",
    "v_reshaped = v.reshape(1, -1)  # Reshape v into a row vector\n",
    "concat_fixed = np.concatenate((x, v_reshaped), axis=0)\n",
    "print(\"\\nConcatenation of x and reshaped v:\\n\", concat_fixed)"
   ]
  },
  {
   "cell_type": "markdown",
   "id": "79b7755b-cabf-49cf-ab5b-1ceb63b9011e",
   "metadata": {},
   "source": [
    "***Problem - 4: Matrix Operations:***\n",
    "\n",
    "    For the following arrays:\n",
    "A = np.array([[3,4],[7,8]]) and B = np.array([[5,3],[2,1]]);\n",
    "Prove following with Numpy:\n",
    "1. Prove A.A−1 = I.\n",
    "2. Prove AB ̸= BA.\n",
    "3. Prove (AB)\n",
    "T = BTAT\n",
    ".\n",
    "• Solve the following system of Linear equation using Inverse Methods.\n",
    "2x − 3y + z = −1\n",
    "x − y + 2z = −3\n",
    "3x + y − z = 9\n",
    "{Hint: First use Numpy array to represent the equation in Matrix form. Then Solve for: AX = B}\n",
    "• Now: solve the above equation using np.linalg.inv function.{Explore more about ”linalg” function of Numpy}\n"
   ]
  },
  {
   "cell_type": "code",
   "execution_count": 54,
   "id": "fc973a08-14db-4232-a375-b24e3961907c",
   "metadata": {},
   "outputs": [],
   "source": [
    "A = np.array([[3, 4], [7, 8]])\n",
    "B = np.array([[5, 3], [2, 1]])"
   ]
  },
  {
   "cell_type": "markdown",
   "id": "158c0b31-07f9-4be5-b885-18b04dec0348",
   "metadata": {},
   "source": [
    "Task 1: Prove $ A \\cdot A^{-1} = I $"
   ]
  },
  {
   "cell_type": "code",
   "execution_count": 55,
   "id": "e7956043-4a17-4dcc-98f1-50411fda128c",
   "metadata": {},
   "outputs": [
    {
     "name": "stdout",
     "output_type": "stream",
     "text": [
      "A * A_inv:\n",
      " [[1.0000000e+00 4.4408921e-16]\n",
      " [0.0000000e+00 1.0000000e+00]]\n",
      "\n",
      "Identity Matrix:\n",
      " [[1. 0.]\n",
      " [0. 1.]]\n",
      "Is A * A_inv equal to Identity Matrix? True\n"
     ]
    }
   ],
   "source": [
    "# Compute the inverse of A\n",
    "A_inv = np.linalg.inv(A)\n",
    "\n",
    "# Multiply A by its inverse\n",
    "result = np.dot(A, A_inv)\n",
    "print(\"A * A_inv:\\n\", result)\n",
    "\n",
    "# Check if the result is the identity matrix\n",
    "identity_matrix = np.eye(2)  # Create a 2x2 identity matrix\n",
    "print(\"\\nIdentity Matrix:\\n\", identity_matrix)\n",
    "print(\"Is A * A_inv equal to Identity Matrix?\", np.allclose(result, identity_matrix))"
   ]
  },
  {
   "cell_type": "markdown",
   "id": "701a948b-a3ae-4c78-9846-2d9742b5caf8",
   "metadata": {},
   "source": [
    "Task 2: Prove $ AB \\neq BA $"
   ]
  },
  {
   "cell_type": "code",
   "execution_count": 56,
   "id": "2cd0fc53-fedf-49dc-a487-db6f6d7038fe",
   "metadata": {},
   "outputs": [
    {
     "name": "stdout",
     "output_type": "stream",
     "text": [
      "\n",
      "AB:\n",
      " [[23 13]\n",
      " [51 29]]\n",
      "BA:\n",
      " [[36 44]\n",
      " [13 16]]\n",
      "Is AB equal to BA? False\n"
     ]
    }
   ],
   "source": [
    "# Compute AB\n",
    "AB = np.dot(A, B)\n",
    "\n",
    "# Compute BA\n",
    "BA = np.dot(B, A)\n",
    "\n",
    "# Compare AB and BA\n",
    "print(\"\\nAB:\\n\", AB)\n",
    "print(\"BA:\\n\", BA)\n",
    "print(\"Is AB equal to BA?\", np.allclose(AB, BA))"
   ]
  },
  {
   "cell_type": "markdown",
   "id": "5f98465c-88d3-4553-9e0c-9fa82a60892d",
   "metadata": {},
   "source": [
    "Task 3: Prove $ (AB)^T = B^T A^T $"
   ]
  },
  {
   "cell_type": "code",
   "execution_count": 57,
   "id": "69907220-e73a-4d90-b1cd-77e2f89340a1",
   "metadata": {},
   "outputs": [
    {
     "name": "stdout",
     "output_type": "stream",
     "text": [
      "\n",
      "(AB)^T:\n",
      " [[23 51]\n",
      " [13 29]]\n",
      "B^T A^T:\n",
      " [[23 51]\n",
      " [13 29]]\n",
      "Is (AB)^T equal to B^T A^T? True\n"
     ]
    }
   ],
   "source": [
    "# Compute (AB)^T\n",
    "AB_T = np.transpose(np.dot(A, B))\n",
    "\n",
    "# Compute B^T A^T\n",
    "B_T_A_T = np.dot(np.transpose(B), np.transpose(A))\n",
    "\n",
    "# Compare (AB)^T and B^T A^T\n",
    "print(\"\\n(AB)^T:\\n\", AB_T)\n",
    "print(\"B^T A^T:\\n\", B_T_A_T)\n",
    "print(\"Is (AB)^T equal to B^T A^T?\", np.allclose(AB_T, B_T_A_T))"
   ]
  },
  {
   "cell_type": "markdown",
   "id": "3ec4ed48-54b6-4d5a-b9b1-8744094f8b7e",
   "metadata": {},
   "source": [
    "Task 4: Solve the System of Linear Equations Using Inverse Methods"
   ]
  },
  {
   "cell_type": "code",
   "execution_count": 59,
   "id": "d924e892-36a1-472f-9e6f-1b319a71dbfe",
   "metadata": {},
   "outputs": [
    {
     "name": "stdout",
     "output_type": "stream",
     "text": [
      "\n",
      "Solution using Inverse Method:\n",
      " [ 2.  1. -2.]\n"
     ]
    }
   ],
   "source": [
    "# Define A and B\n",
    "A = np.array([[2, -3, 1],\n",
    "              [1, -1, 2],\n",
    "              [3, 1, -1]])\n",
    "B = np.array([-1, -3, 9])\n",
    "\n",
    "# Compute the inverse of A\n",
    "A_inv = np.linalg.inv(A)\n",
    "\n",
    "# Solve for X using X = A_inv * B\n",
    "X = np.dot(A_inv, B)\n",
    "print(\"\\nSolution using Inverse Method:\\n\", X)"
   ]
  },
  {
   "cell_type": "markdown",
   "id": "387e7996-2ba2-4aa0-94c4-767192d3a8d0",
   "metadata": {},
   "source": [
    "Task 5: Solve the System Using `np.linalg.solve`"
   ]
  },
  {
   "cell_type": "code",
   "execution_count": null,
   "id": "90e831b4-7650-4c74-9f98-c1b7c03512f4",
   "metadata": {},
   "outputs": [],
   "source": [
    "# Solve for X using np.linalg.solve\n",
    "X_solve = np.linalg.solve(A, B)\n",
    "print(\"\\nSolution using np.linalg.solve:\\n\", X_solve)"
   ]
  },
  {
   "cell_type": "markdown",
   "id": "8a311b92-fd5e-4571-8ee6-67acd7bcdd5b",
   "metadata": {},
   "source": [
    "**10.2 Experiment: How Fast is Numpy?**"
   ]
  },
  {
   "cell_type": "markdown",
   "id": "e5d98049-8d24-4753-95ae-398a2edbab96",
   "metadata": {},
   "source": [
    "1. Element-wise Addition:\n",
    "• Using Python Lists, perform element-wise addition of two lists of size 1, 000, 000. Measure\n",
    "and Print the time taken for this operation.\n",
    "• Using Numpy Arrays, Repeat the calculation and measure and print the time taken for\n",
    "this operation."
   ]
  },
  {
   "cell_type": "code",
   "execution_count": null,
   "id": "089bb05f-03bd-4148-a1dc-b6b9eaf4fce2",
   "metadata": {},
   "outputs": [],
   "source": [
    "import time\n",
    "import numpy as np\n",
    "\n",
    "# Step 1: Using Python Lists\n",
    "list1 = list(range(1, 1000001))  # List from 1 to 1,000,000\n",
    "list2 = list(range(1000000, 0, -1))  # List from 1,000,000 to 1\n",
    "\n",
    "# Perform element-wise addition using a loop\n",
    "start_time = time.time()\n",
    "result_list = [list1[i] + list2[i] for i in range(len(list1))]\n",
    "end_time = time.time()\n",
    "\n",
    "# Print the time taken for Python Lists\n",
    "print(\"Time taken for Python Lists (Element-wise Addition): {:.6f} seconds\".format(end_time - start_time))\n",
    "\n",
    "# Step 2: Using NumPy Arrays\n",
    "array1 = np.arange(1, 1000001)  # Array from 1 to 1,000,000\n",
    "array2 = np.arange(1000000, 0, -1)  # Array from 1,000,000 to 1\n",
    "\n",
    "# Perform element-wise addition\n",
    "start_time = time.time()\n",
    "result_array = array1 + array2\n",
    "end_time = time.time()\n",
    "\n",
    "# Print the time taken for NumPy Arrays\n",
    "print(\"Time taken for NumPy Arrays (Element-wise Addition): {:.6f} seconds\".format(end_time - start_time))"
   ]
  },
  {
   "cell_type": "markdown",
   "id": "0c375c47-5a8f-4e37-bd21-c8a869e461af",
   "metadata": {},
   "source": [
    "2. Element-wise Multiplication\n",
    "• Using Python Lists, perform element-wise multiplication of two lists of size 1, 000, 000.\n",
    "Measure and Print the time taken for this operation.\n",
    "• Using Numpy Arrays, Repeat the calculation and measure and print the time taken for\n",
    "this operation."
   ]
  },
  {
   "cell_type": "code",
   "execution_count": 7,
   "id": "0c0ca08e-834d-48dc-bc2f-335018ec4a27",
   "metadata": {},
   "outputs": [
    {
     "name": "stdout",
     "output_type": "stream",
     "text": [
      "=== Element-wise Multiplication ===\n",
      "Time taken for Python Lists (Element-wise Multiplication): 0.115072 seconds\n",
      "Time taken for NumPy Arrays (Element-wise Multiplication): 0.000000 seconds\n"
     ]
    }
   ],
   "source": [
    "import time\n",
    "import numpy as np\n",
    "\n",
    "# Task 2: Element-wise Multiplication\n",
    "print(\"=== Element-wise Multiplication ===\")\n",
    "\n",
    "# Using Python Lists\n",
    "list1 = list(range(1, 1000001))  # List from 1 to 1,000,000\n",
    "list2 = list(range(1000000, 0, -1))  # List from 1,000,000 to 1\n",
    "\n",
    "start_time = time.time()\n",
    "result_list = [list1[i] * list2[i] for i in range(len(list1))]\n",
    "end_time = time.time()\n",
    "\n",
    "print(\"Time taken for Python Lists (Element-wise Multiplication): {:.6f} seconds\".format(end_time - start_time))\n",
    "\n",
    "# Using NumPy Arrays\n",
    "array1 = np.arange(1, 1000001)  # Array from 1 to 1,000,000\n",
    "array2 = np.arange(1000000, 0, -1)  # Array from 1,000,000 to 1\n",
    "\n",
    "start_time = time.time()\n",
    "result_array = array1 * array2\n",
    "end_time = time.time()\n",
    "\n",
    "print(\"Time taken for NumPy Arrays (Element-wise Multiplication): {:.6f} seconds\".format(end_time - start_time))"
   ]
  },
  {
   "cell_type": "markdown",
   "id": "91396e2c-d77b-4708-8d53-9830eee8822d",
   "metadata": {},
   "source": [
    "3. Dot Product\n",
    "• Using Python Lists, compute the dot product of two lists of size 1, 000, 000. Measure and\n",
    "Print the time taken for this operation.\n",
    "• Using Numpy Arrays, Repeat the calculation and measure and print the time taken for\n",
    "this operation."
   ]
  },
  {
   "cell_type": "code",
   "execution_count": 8,
   "id": "7259cc88-505e-4c13-85b5-2aab5983dd9a",
   "metadata": {},
   "outputs": [
    {
     "name": "stdout",
     "output_type": "stream",
     "text": [
      "Time taken for Python Lists (Dot Product): 0.190705 seconds\n",
      "Time taken for NumPy Arrays (Dot Product): 0.000000 seconds\n"
     ]
    }
   ],
   "source": [
    "import time\n",
    "import numpy as np\n",
    "\n",
    "# Step 1: Using Python Lists\n",
    "list1 = list(range(1, 1000001))  # List from 1 to 1,000,000\n",
    "list2 = list(range(1000000, 0, -1))  # List from 1,000,000 to 1\n",
    "\n",
    "# Compute the dot product using a loop\n",
    "start_time = time.time()\n",
    "dot_product_list = sum(list1[i] * list2[i] for i in range(len(list1)))\n",
    "end_time = time.time()\n",
    "\n",
    "# Print the time taken for Python Lists\n",
    "print(\"Time taken for Python Lists (Dot Product): {:.6f} seconds\".format(end_time - start_time))\n",
    "\n",
    "# Step 2: Using NumPy Arrays\n",
    "array1 = np.arange(1, 1000001)  # Array from 1 to 1,000,000\n",
    "array2 = np.arange(1000000, 0, -1)  # Array from 1,000,000 to 1\n",
    "\n",
    "# Compute the dot product using np.dot()\n",
    "start_time = time.time()\n",
    "dot_product_array = np.dot(array1, array2)\n",
    "end_time = time.time()\n",
    "\n",
    "# Print the time taken for NumPy Arrays\n",
    "print(\"Time taken for NumPy Arrays (Dot Product): {:.6f} seconds\".format(end_time - start_time))"
   ]
  },
  {
   "cell_type": "markdown",
   "id": "3e41e192-c557-4e26-bcde-45010d80b1ed",
   "metadata": {},
   "source": [
    "4. Matrix Multiplication\n",
    "• Using Python lists, perform matrix multiplication of two matrices of size 1000x1000. Measure and print the time taken for this operation.\n",
    "• Using NumPy arrays, perform matrix multiplication of two matrices of size 1000x1000.\n",
    "Measure and print the time taken for this operation."
   ]
  },
  {
   "cell_type": "code",
   "execution_count": 11,
   "id": "28fd5f02-ff63-40df-a879-84629ab08eee",
   "metadata": {},
   "outputs": [
    {
     "name": "stdout",
     "output_type": "stream",
     "text": [
      "Time taken using Python lists: 75.7379 seconds\n",
      "Time taken using NumPy: 0.0181 seconds\n"
     ]
    }
   ],
   "source": [
    "import numpy as np\n",
    "import time\n",
    "\n",
    "# Matrix size\n",
    "size = 1000\n",
    "\n",
    "# Generate two random matrices using Python lists\n",
    "matrix1_list = [[np.random.rand() for _ in range(size)] for _ in range(size)]\n",
    "matrix2_list = [[np.random.rand() for _ in range(size)] for _ in range(size)]\n",
    "\n",
    "# Matrix multiplication using Python lists\n",
    "start_time = time.time()\n",
    "result_list = [[sum(a * b for a, b in zip(row, col)) for col in zip(*matrix2_list)] for row in matrix1_list]\n",
    "python_time = time.time() - start_time\n",
    "\n",
    "# Generate two random matrices using NumPy\n",
    "matrix1_np = np.random.rand(size, size)\n",
    "matrix2_np = np.random.rand(size, size)\n",
    "\n",
    "# Matrix multiplication using NumPy\n",
    "start_time = time.time()\n",
    "result_np = np.dot(matrix1_np, matrix2_np)\n",
    "numpy_time = time.time() - start_time\n",
    "\n",
    "# Print results\n",
    "print(f\"Time taken using Python lists: {python_time:.4f} seconds\")\n",
    "print(f\"Time taken using NumPy: {numpy_time:.4f} seconds\")\n"
   ]
  },
  {
   "cell_type": "code",
   "execution_count": null,
   "id": "92003ac0-f796-4ebf-bc00-e836d8b8da95",
   "metadata": {},
   "outputs": [],
   "source": []
  }
 ],
 "metadata": {
  "kernelspec": {
   "display_name": "Python 3 (ipykernel)",
   "language": "python",
   "name": "python3"
  },
  "language_info": {
   "codemirror_mode": {
    "name": "ipython",
    "version": 3
   },
   "file_extension": ".py",
   "mimetype": "text/x-python",
   "name": "python",
   "nbconvert_exporter": "python",
   "pygments_lexer": "ipython3",
   "version": "3.12.7"
  }
 },
 "nbformat": 4,
 "nbformat_minor": 5
}
